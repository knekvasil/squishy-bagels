{
 "cells": [
  {
   "cell_type": "code",
   "execution_count": 1,
   "metadata": {},
   "outputs": [],
   "source": [
    "import torch\n",
    "from models.gen.edm import EDM\n",
    "from models.gen.blocks import UNet\n",
    "import tqdm\n",
    "from torch.utils.data.dataloader import DataLoader\n",
    "from torch.utils.data import random_split\n",
    "from data.data import SequencesDataset\n",
    "import torchvision.transforms as transforms\n",
    "import os\n",
    "import numpy as np\n",
    "import matplotlib.pyplot as plt\n",
    "import random\n",
    "import tqdm"
   ]
  },
  {
   "cell_type": "code",
   "execution_count": 2,
   "metadata": {},
   "outputs": [],
   "source": [
    "input_channels = 3\n",
    "context_length = 4\n",
    "actions_count = 5\n",
    "batch_size = 1\n",
    "num_workers = 2\n",
    "device = \"cuda\" if torch.cuda.is_available() else \"cpu\"\n",
    "FPS = 1\n",
    "\n",
    "# For Mac OS\n",
    "if torch.backends.mps.is_available():\n",
    "    device = \"mps\"\n",
    "ROOT_PATH = \"../\"\n",
    "def local_path(path):\n",
    "    return os.path.join(ROOT_PATH, path)\n",
    "MODEL_PATH = local_path(\"models/model.pth\")"
   ]
  },
  {
   "cell_type": "code",
   "execution_count": 3,
   "metadata": {},
   "outputs": [
    {
     "name": "stderr",
     "output_type": "stream",
     "text": [
      "/var/folders/1h/3ngp6hy976l6bcs8dlnvhhnc0000gn/T/ipykernel_74593/1017029696.py:9: FutureWarning: You are using `torch.load` with `weights_only=False` (the current default value), which uses the default pickle module implicitly. It is possible to construct malicious pickle data which will execute arbitrary code during unpickling (See https://github.com/pytorch/pytorch/blob/main/SECURITY.md#untrusted-models for more details). In a future release, the default value for `weights_only` will be flipped to `True`. This limits the functions that could be executed during unpickling. Arbitrary objects will no longer be allowed to be loaded via this mode unless they are explicitly allowlisted by the user via `torch.serialization.add_safe_globals`. We recommend you start setting `weights_only=True` for any use case where you don't have full control of the loaded file. Please open an issue on GitHub for any issues related to this experimental feature.\n",
      "  edm.load_state_dict(torch.load(MODEL_PATH, map_location=device)[\"model\"])\n"
     ]
    },
    {
     "data": {
      "text/plain": [
       "<All keys matched successfully>"
      ]
     },
     "execution_count": 3,
     "metadata": {},
     "output_type": "execute_result"
    }
   ],
   "source": [
    "edm = EDM(\n",
    "    p_mean=-1.2,\n",
    "    p_std=1.2,\n",
    "    sigma_data=0.5,\n",
    "    model=UNet((input_channels) * (context_length + 1), 3, None, actions_count, context_length),\n",
    "    context_length=context_length,\n",
    "    device=device\n",
    ")\n",
    "edm.load_state_dict(torch.load(MODEL_PATH, map_location=device)[\"model\"])"
   ]
  },
  {
   "cell_type": "code",
   "execution_count": 4,
   "metadata": {},
   "outputs": [],
   "source": [
    "transform_to_tensor = transforms.Compose([\n",
    "    transforms.ToTensor(),\n",
    "    transforms.Normalize((.5,.5,.5), (.5,.5,.5))\n",
    "])\n",
    "\n",
    "dataset = SequencesDataset(\n",
    "    images_dir=local_path(\"training_data/snapshots\"),\n",
    "    actions_path=local_path(\"training_data/actions\"),\n",
    "    seq_length=context_length,\n",
    "    transform=transform_to_tensor\n",
    ")"
   ]
  },
  {
   "cell_type": "code",
   "execution_count": 10,
   "metadata": {},
   "outputs": [
    {
     "data": {
      "application/vnd.jupyter.widget-view+json": {
       "model_id": "c81cdd099f344044b2520abd72b8b9b0",
       "version_major": 2,
       "version_minor": 0
      },
      "text/plain": [
       "Output()"
      ]
     },
     "metadata": {},
     "output_type": "display_data"
    },
    {
     "data": {
      "application/vnd.jupyter.widget-view+json": {
       "model_id": "2ee20efda5b04ed0890a51fc6ffcc3e7",
       "version_major": 2,
       "version_minor": 0
      },
      "text/plain": [
       "Output()"
      ]
     },
     "metadata": {},
     "output_type": "display_data"
    }
   ],
   "source": [
    "from IPython.display import display, clear_output, Image as iImage\n",
    "import ipywidgets as widgets\n",
    "from PIL import Image\n",
    "import time\n",
    "import torch\n",
    "import numpy as np\n",
    "import io\n",
    "import random\n",
    "\n",
    "class State:\n",
    "    def __init__(self):\n",
    "        self.action = 0\n",
    "        self.is_running = False\n",
    "        self.frame_number = 0\n",
    "        self.gen_imgs = None\n",
    "        self.actions = None\n",
    "        \n",
    "    def reset(self):\n",
    "        self.frame_number = 0\n",
    "        self.is_running = False\n",
    "        self.gen_imgs = None\n",
    "        self.actions = None\n",
    "\n",
    "state = State()\n",
    "\n",
    "def on_button_click(input_action):\n",
    "    state.action = input_action\n",
    "\n",
    "# Create buttons\n",
    "left_button = widgets.Button(description='Left')\n",
    "right_button = widgets.Button(description='Right')\n",
    "up_button = widgets.Button(description='Up')\n",
    "down_button = widgets.Button(description='Down')\n",
    "start_button = widgets.Button(description='Start')\n",
    "stop_button = widgets.Button(description='Stop')\n",
    "\n",
    "directions = {\n",
    "    0: \"Right\",\n",
    "    1: \"Left\",\n",
    "    2: \"Up\",\n",
    "    3: \"Down\"\n",
    "}\n",
    "\n",
    "# Set up button callbacks\n",
    "right_button.on_click(lambda b: on_button_click(0))\n",
    "left_button.on_click(lambda b: on_button_click(1))\n",
    "up_button.on_click(lambda b: on_button_click(2))\n",
    "down_button.on_click(lambda b: on_button_click(3))\n",
    "\n",
    "# Display buttons horizontally\n",
    "buttons = widgets.HBox([left_button, widgets.VBox([up_button, down_button]), right_button, start_button, stop_button])\n",
    "\n",
    "button_output = widgets.Output()\n",
    "image_output = widgets.Output()\n",
    "\n",
    "with button_output:\n",
    "    display(buttons)\n",
    "\n",
    "def get_np_img(tensor: torch.Tensor) -> np.ndarray:\n",
    "    return (tensor * 127.5 + 127.5).long().clip(0, 255).permute(1, 2, 0).detach().cpu().numpy().astype(np.uint8)\n",
    "\n",
    "def render_frame():\n",
    "    if not state.is_running:\n",
    "        return\n",
    "        \n",
    "    if state.frame_number >= 80:\n",
    "        stop_rendering()\n",
    "        return\n",
    "        \n",
    "    start_time = time.time()\n",
    "    \n",
    "    # Initialize on first frame\n",
    "    if state.frame_number == 0:\n",
    "        index = random.randint(0, len(dataset) - 1)\n",
    "        img, last_imgs, actions = dataset[index]\n",
    "        state.gen_imgs = last_imgs.clone().to(device)\n",
    "        state.actions = actions.to(device)\n",
    "    \n",
    "    # Automatically change direction for each frame\n",
    "    state.action = random.choice(list(directions.keys()))  # Randomly select a direction\n",
    "    state.actions = torch.concat((state.actions, torch.tensor([state.action], device=device)))\n",
    "    \n",
    "    with torch.no_grad():\n",
    "        gen_img = edm.sample(\n",
    "            10,\n",
    "            state.gen_imgs[0].shape,\n",
    "            state.gen_imgs[-context_length:].unsqueeze(0),\n",
    "            state.actions[-context_length:].unsqueeze(0)\n",
    "        )[0]\n",
    "    \n",
    "    state.gen_imgs = torch.concat([state.gen_imgs, gen_img[None, :, :, :]], dim=0)\n",
    "    \n",
    "    # Display frame\n",
    "    display_img = get_np_img(gen_img)\n",
    "    buffer = io.BytesIO()\n",
    "    Image.fromarray(display_img).resize((360, 360), Image.Resampling.LANCZOS).save(buffer, format='PNG')\n",
    "    \n",
    "    with image_output:\n",
    "        clear_output(wait=True)\n",
    "        print(f'Direction: {directions[state.action]}')\n",
    "        print(f'Frame: {state.frame_number + 1}/80')\n",
    "        display(iImage(data=buffer.getvalue()))\n",
    "    \n",
    "    state.frame_number += 1\n",
    "    \n",
    "    # Maintain frame rate\n",
    "    elapsed_time = time.time() - start_time\n",
    "    delay = max(0, frame_time - elapsed_time)\n",
    "    \n",
    "    # Schedule next frame\n",
    "    if state.is_running:\n",
    "        timer = time.time() + delay\n",
    "        while time.time() < timer:\n",
    "            pass\n",
    "        render_frame()\n",
    "\n",
    "def start_rendering(b):\n",
    "    if state.is_running:\n",
    "        return\n",
    "    state.reset()\n",
    "    state.is_running = True\n",
    "    render_frame()\n",
    "\n",
    "def stop_rendering(b=None):\n",
    "    state.reset()\n",
    "    with image_output:\n",
    "        clear_output(wait=True)\n",
    "        print('Stopped rendering')\n",
    "\n",
    "start_button.on_click(start_rendering)\n",
    "stop_button.on_click(stop_rendering)\n",
    "\n",
    "# Initialize constants\n",
    "FPS = 0.2  # Adjust this to match your desired frame rate\n",
    "frame_time = 1 / FPS\n",
    "\n",
    "display(button_output)\n",
    "display(image_output)"
   ]
  },
  {
   "cell_type": "code",
   "execution_count": null,
   "metadata": {},
   "outputs": [],
   "source": []
  }
 ],
 "metadata": {
  "kernelspec": {
   "display_name": "Python 3.12.5 ml-bulk",
   "language": "python",
   "name": "ml-bulk-kernel"
  },
  "language_info": {
   "codemirror_mode": {
    "name": "ipython",
    "version": 3
   },
   "file_extension": ".py",
   "mimetype": "text/x-python",
   "name": "python",
   "nbconvert_exporter": "python",
   "pygments_lexer": "ipython3",
   "version": "3.12.5"
  }
 },
 "nbformat": 4,
 "nbformat_minor": 4
}
